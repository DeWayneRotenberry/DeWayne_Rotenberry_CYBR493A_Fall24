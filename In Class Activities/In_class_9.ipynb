{
 "cells": [
  {
   "cell_type": "code",
   "execution_count": 1,
   "id": "4528dcec",
   "metadata": {},
   "outputs": [],
   "source": [
    "import requests\n",
    "from bs4 import BeautifulSoup"
   ]
  },
  {
   "cell_type": "code",
   "execution_count": 2,
   "id": "26fe07f6",
   "metadata": {},
   "outputs": [],
   "source": [
    "# URL for fetching data\n",
    "url = \"https://bugzilla.redhat.com/buglist.cgi?bug_status=__closed__&bug_status=CLOSED&classification=Fedora&limit=0&order=priority%2Cbug_severity&product=Fedora&query_format=advanced&resolution=WONTFIX&resolution=DEFERRED&resolution=CURRENTRELEASE&resolution=ERRATA&resolution=NEXTRELEASE&resolution=RAWHIDE&resolution=UPSTREAM\""
   ]
  },
  {
   "cell_type": "code",
   "execution_count": 3,
   "id": "86d3032f",
   "metadata": {},
   "outputs": [],
   "source": [
    "# Function to fetch data\n",
    "def get_bug_data(url):\n",
    "    response = requests.get(url)\n",
    "    soup = BeautifulSoup(response.content, 'html.parser')\n",
    "    \n",
    "    bugs_list = []  # Initialize an empty list to store bugs\n",
    "    \n",
    "    # Implement parsing logic to extract bug IDs, components, and other details here.\n",
    "    \n",
    "    return bugs_list  # List of dictionaries with bug info"
   ]
  },
  {
   "cell_type": "code",
   "execution_count": 4,
   "id": "cb073f3d",
   "metadata": {},
   "outputs": [
    {
     "name": "stdout",
     "output_type": "stream",
     "text": [
      "Total number of bugs found: 0\n"
     ]
    }
   ],
   "source": [
    "# Call the function and display data\n",
    "bugs_list = get_bug_data(url)\n",
    "print(\"Total number of bugs found:\", len(bugs_list))"
   ]
  },
  {
   "cell_type": "code",
   "execution_count": 5,
   "id": "21cd0a6e",
   "metadata": {},
   "outputs": [],
   "source": [
    "for bug in bugs_list:\n",
    "    print(f\"Bug ID: {bug['id']}\")\n",
    "    print(f\"Component: {bug['component']}\")\n",
    "    print(f\"Additional Info 1: {bug['info1']}\")\n",
    "    print(f\"Additional Info 2: {bug['info2']}\")\n",
    "    print(\"-\" * 40)"
   ]
  },
  {
   "cell_type": "code",
   "execution_count": null,
   "id": "d93f15ea",
   "metadata": {},
   "outputs": [],
   "source": []
  }
 ],
 "metadata": {
  "kernelspec": {
   "display_name": "Python 3.9 (pythonForCyber)",
   "language": "python",
   "name": "pythonforcyber"
  },
  "language_info": {
   "codemirror_mode": {
    "name": "ipython",
    "version": 3
   },
   "file_extension": ".py",
   "mimetype": "text/x-python",
   "name": "python",
   "nbconvert_exporter": "python",
   "pygments_lexer": "ipython3",
   "version": "3.9.19"
  }
 },
 "nbformat": 4,
 "nbformat_minor": 5
}
