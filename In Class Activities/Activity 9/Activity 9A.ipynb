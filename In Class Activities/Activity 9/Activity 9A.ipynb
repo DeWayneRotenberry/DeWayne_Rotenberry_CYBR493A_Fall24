{
 "cells": [
  {
   "cell_type": "code",
   "execution_count": 3,
   "id": "5e68f712",
   "metadata": {},
   "outputs": [
    {
     "name": "stdout",
     "output_type": "stream",
     "text": [
      "Scraping https://bugzilla.redhat.com/buglist.cgi?bug_status=__closed__&bug_status=CLOSED&classification=Fedora&limit=0&order=priority%2Cbug_severity&product=Fedora&query_format=advanced&resolution=WONTFIX&resolution=DEFERRED&resolution=CURRENTRELEASE&resolution=ERRATA&resolution=NEXTRELEASE&resolution=RAWHIDE&resolution=UPSTREAMsaml2_login.cgi?idp=Fedora%20Account%20System&target=buglist.cgi%3Fbug_status%3D__closed__%26bug_status%3DCLOSED%26classification%3DFedora%26limit%3D0%26order%3Dpriority%252Cbug_severity%26product%3DFedora%26query_format%3Dadvanced%26resolution%3DWONTFIX%26resolution%3DDEFERRED%26resolution%3DCURRENTRELEASE%26resolution%3DERRATA%26resolution%3DNEXTRELEASE%26resolution%3DRAWHIDE%26resolution%3DUPSTREAM\n",
      "Scraping https://bugzilla.redhat.com/buglist.cgi?bug_status=__closed__&bug_status=CLOSED&classification=Fedora&limit=0&order=priority%2Cbug_severity&product=Fedora&query_format=advanced&resolution=WONTFIX&resolution=DEFERRED&resolution=CURRENTRELEASE&resolution=ERRATA&resolution=NEXTRELEASE&resolution=RAWHIDE&resolution=UPSTREAMsaml2_login.cgi?idp=Red%20Hat%20Associate&target=buglist.cgi%3Fbug_status%3D__closed__%26bug_status%3DCLOSED%26classification%3DFedora%26limit%3D0%26order%3Dpriority%252Cbug_severity%26product%3DFedora%26query_format%3Dadvanced%26resolution%3DWONTFIX%26resolution%3DDEFERRED%26resolution%3DCURRENTRELEASE%26resolution%3DERRATA%26resolution%3DNEXTRELEASE%26resolution%3DRAWHIDE%26resolution%3DUPSTREAM\n",
      "Main Heading: []\n"
     ]
    }
   ],
   "source": [
    "import Web_Scraping_beautiful_soup as ws\n",
    "\n",
    "\n",
    "# Main function to initialize and run the scraper\n",
    "def main():\n",
    "    # Initialize the scraper with the base URL\n",
    "    scraper = ws.WVUScraper(\"https://bugzilla.redhat.com/buglist.cgi?bug_status=__closed__&bug_status=CLOSED&classification=Fedora&limit=0&order=priority%2Cbug_severity&product=Fedora&query_format=advanced&resolution=WONTFIX&resolution=DEFERRED&resolution=CURRENTRELEASE&resolution=ERRATA&resolution=NEXTRELEASE&resolution=RAWHIDE&resolution=UPSTREAM\")\n",
    "\n",
    "    # Scrape the main page and follow links\n",
    "    data = scraper.follow_links(scraper.base_url, max_pages=3, delay=1)\n",
    "\n",
    "    # # Print data for each page\n",
    "    # for page in data:\n",
    "    #     print(\"Page URL:\", page['url'])\n",
    "    #     print(\"Headings:\", page['headings'])\n",
    "    #     print(\"Links:\", page['links'])\n",
    "\n",
    "    # Example of grabbing a specific item using a CSS selector\n",
    "    html = scraper.get_html(scraper.base_url)\n",
    "    soup = scraper.parse_html(html)\n",
    "\n",
    "    # Attempt to retrieve the main heading using an alternative selector\n",
    "    main_heading = scraper.grab_specific_item(soup, \"#bz_buglist_info\")\n",
    "    print(\"Main Heading:\", main_heading)\n",
    "        \n",
    "if __name__ == \"__main__\":\n",
    "    main()"
   ]
  },
  {
   "cell_type": "code",
   "execution_count": null,
   "id": "294be019",
   "metadata": {},
   "outputs": [],
   "source": []
  }
 ],
 "metadata": {
  "kernelspec": {
   "display_name": "Python 3.9 (pythonForCyber)",
   "language": "python",
   "name": "pythonforcyber"
  },
  "language_info": {
   "codemirror_mode": {
    "name": "ipython",
    "version": 3
   },
   "file_extension": ".py",
   "mimetype": "text/x-python",
   "name": "python",
   "nbconvert_exporter": "python",
   "pygments_lexer": "ipython3",
   "version": "3.9.19"
  }
 },
 "nbformat": 4,
 "nbformat_minor": 5
}
