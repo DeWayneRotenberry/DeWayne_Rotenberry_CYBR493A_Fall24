{
 "cells": [
  {
   "cell_type": "code",
   "execution_count": 1,
   "id": "b1cf134d",
   "metadata": {},
   "outputs": [],
   "source": [
    "import string"
   ]
  },
  {
   "cell_type": "markdown",
   "id": "32078494",
   "metadata": {},
   "source": [
    "method 1 to encrypt given message"
   ]
  },
  {
   "cell_type": "code",
   "execution_count": 134,
   "id": "09cc20cd",
   "metadata": {},
   "outputs": [],
   "source": [
    "def cipher_encrypt(message, key):\n",
    "    encrypted_message = \"\"\n",
    "    \n",
    "    for char in message:\n",
    "        encrypted_char = chr(ord(char) + key)\n",
    "        encrypted_message += encrypted_char\n",
    "    return encrypted_message"
   ]
  },
  {
   "cell_type": "markdown",
   "id": "86218139",
   "metadata": {},
   "source": [
    "method to decrypt message"
   ]
  },
  {
   "cell_type": "code",
   "execution_count": 135,
   "id": "8d2b702a",
   "metadata": {},
   "outputs": [],
   "source": [
    "def cipher_decrypt(encrypted_message, key):\n",
    "    decrypted_message = \"\"\n",
    "    \n",
    "    for char in encrypted_message:\n",
    "        decrypted_char = chr(ord(char) - key)\n",
    "        decrypted_message += decrypted_char\n",
    "    return decrypted_message"
   ]
  },
  {
   "cell_type": "markdown",
   "id": "fc89b593",
   "metadata": {},
   "source": [
    "Call the cipher_encrypt method"
   ]
  },
  {
   "cell_type": "code",
   "execution_count": 129,
   "id": "abe83587",
   "metadata": {},
   "outputs": [],
   "source": [
    "encrypted_message = cipher_encrypt(\"Hello, World\", 5)"
   ]
  },
  {
   "cell_type": "code",
   "execution_count": 130,
   "id": "ec40a86b",
   "metadata": {},
   "outputs": [
    {
     "name": "stdout",
     "output_type": "stream",
     "text": [
      "\n"
     ]
    }
   ],
   "source": [
    "print(encrypted_message)"
   ]
  },
  {
   "cell_type": "markdown",
   "id": "9c23a5ad",
   "metadata": {},
   "source": [
    "Call the cipher_decrypt method"
   ]
  },
  {
   "cell_type": "code",
   "execution_count": 131,
   "id": "984c907a",
   "metadata": {},
   "outputs": [],
   "source": [
    "decrypted_message = cipher_decrypt(encrypted_message, 5)"
   ]
  },
  {
   "cell_type": "code",
   "execution_count": 132,
   "id": "d072fda1",
   "metadata": {},
   "outputs": [
    {
     "name": "stdout",
     "output_type": "stream",
     "text": [
      "\n"
     ]
    }
   ],
   "source": [
    "print(decrypted_message)"
   ]
  }
 ],
 "metadata": {
  "kernelspec": {
   "display_name": "Python 3.9 (pythonForCyber)",
   "language": "python",
   "name": "pythonforcyber"
  },
  "language_info": {
   "codemirror_mode": {
    "name": "ipython",
    "version": 3
   },
   "file_extension": ".py",
   "mimetype": "text/x-python",
   "name": "python",
   "nbconvert_exporter": "python",
   "pygments_lexer": "ipython3",
   "version": "3.9.19"
  }
 },
 "nbformat": 4,
 "nbformat_minor": 5
}
