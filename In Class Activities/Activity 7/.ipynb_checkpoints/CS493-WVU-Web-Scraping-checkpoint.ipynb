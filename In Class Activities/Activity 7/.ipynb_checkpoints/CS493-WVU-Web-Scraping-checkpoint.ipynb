{
 "cells": [
  {
   "cell_type": "markdown",
   "metadata": {},
   "source": [
    "# Climate-Informed Cybersecurity Preparedness\n",
    "\n",
    "This notebook demonstrates how to use NOAA Climate Data Products to identify areas of high risk for cybersecurity threats related to natural disasters like Hurricane Helene in North Carolina, focusing on Asheville and Greenville.\n",
    "\n",
    "**Objectives:**\n",
    "- **Identify Critical Infrastructure**: Locate data centers throughout North Carolina with the aid of publicly-available websites and web scraping tools.\n",
    "- **Determine High Risk Zones**: Assess areas expoded to acute precipitation amounts and identify data centers most vulnerable to flooding and damage.\n",
    "\n",
    "\n",
    "> ### Disclaimer: Understanding the Complexity of Hydrology\n",
    "> \n",
    "> Hydrology, the branch of science dedicated to understanding water movement and distribution, involves a range of factors that influence flood risk and water resource management. Additional factors may include soil saturation, watershed characteristics, river flow dynamics, evaporation rates, and topography. While this example uses precipitation totals as an indicator, it is important to note that **precipitation totals alone are not sufficient for a comprehensive climate-adjacent risk assessment**.\n",
    "> \n",
    "> \n",
    "> This example represents a simplified approach to climate-related risk assessment. Students are encouraged to build on this foundation by adding more complex variables from various datasets. Explore more NOAA datasets [here](https://www.arcgis.com/home/search.html?restrict=false&sortField=relevance&sortOrder=desc&searchTerm=owner%3A%22NWS.NCEP.CPC_noaa%22#content).\n",
    "\n",
    "\n"
   ]
  },
  {
   "cell_type": "markdown",
   "metadata": {},
   "source": [
    "## Case Study\n",
    "\n",
    "In the face of increasing flooding volatility due to climate change, you are apart of a technology firm that is proactively assessing potential risks to data centers across its North Carolina footprint, especially in light of unprecedented damage brought by Hurricane Helene. The firm needs to conduct a preliminary analysis to evaluate the need for redundant data centers in safer locations. As part of this assessment, we need to identifying potential weaknesses in our Asheville data center's network infrastructure, which might be at greater risk for cyber attacks if physical damage from flooding were to occur again. Our goal is to develop a robust strategy to strengthen our resilience against climate-related cyber threats and ensure the continuity of our operations."
   ]
  },
  {
   "cell_type": "code",
   "execution_count": 1,
   "metadata": {},
   "outputs": [
    {
     "name": "stdout",
     "output_type": "stream",
     "text": [
      "Requirement already satisfied: geopandas in /opt/anaconda3/envs/pythonForCyber/lib/python3.9/site-packages (1.0.1)\n",
      "Requirement already satisfied: pandas in /opt/anaconda3/envs/pythonForCyber/lib/python3.9/site-packages (2.2.3)\n",
      "Requirement already satisfied: matplotlib in /opt/anaconda3/envs/pythonForCyber/lib/python3.9/site-packages (3.9.2)\n",
      "Requirement already satisfied: shapely in /opt/anaconda3/envs/pythonForCyber/lib/python3.9/site-packages (2.0.6)\n",
      "Requirement already satisfied: contextily in /opt/anaconda3/envs/pythonForCyber/lib/python3.9/site-packages (1.6.2)\n",
      "Requirement already satisfied: branca in /opt/anaconda3/envs/pythonForCyber/lib/python3.9/site-packages (0.6.0)\n",
      "Requirement already satisfied: numpy>=1.22 in /opt/anaconda3/envs/pythonForCyber/lib/python3.9/site-packages (from geopandas) (1.26.4)\n",
      "Requirement already satisfied: pyogrio>=0.7.2 in /opt/anaconda3/envs/pythonForCyber/lib/python3.9/site-packages (from geopandas) (0.10.0)\n",
      "Requirement already satisfied: packaging in /opt/anaconda3/envs/pythonForCyber/lib/python3.9/site-packages (from geopandas) (24.1)\n",
      "Requirement already satisfied: pyproj>=3.3.0 in /opt/anaconda3/envs/pythonForCyber/lib/python3.9/site-packages (from geopandas) (3.6.1)\n",
      "Requirement already satisfied: python-dateutil>=2.8.2 in /opt/anaconda3/envs/pythonForCyber/lib/python3.9/site-packages (from pandas) (2.9.0)\n",
      "Requirement already satisfied: pytz>=2020.1 in /opt/anaconda3/envs/pythonForCyber/lib/python3.9/site-packages (from pandas) (2024.2)\n",
      "Requirement already satisfied: tzdata>=2022.7 in /opt/anaconda3/envs/pythonForCyber/lib/python3.9/site-packages (from pandas) (2024.2)\n",
      "Requirement already satisfied: contourpy>=1.0.1 in /opt/anaconda3/envs/pythonForCyber/lib/python3.9/site-packages (from matplotlib) (1.3.0)\n",
      "Requirement already satisfied: cycler>=0.10 in /opt/anaconda3/envs/pythonForCyber/lib/python3.9/site-packages (from matplotlib) (0.12.1)\n",
      "Requirement already satisfied: fonttools>=4.22.0 in /opt/anaconda3/envs/pythonForCyber/lib/python3.9/site-packages (from matplotlib) (4.53.1)\n",
      "Requirement already satisfied: kiwisolver>=1.3.1 in /opt/anaconda3/envs/pythonForCyber/lib/python3.9/site-packages (from matplotlib) (1.4.7)\n",
      "Requirement already satisfied: pillow>=8 in /opt/anaconda3/envs/pythonForCyber/lib/python3.9/site-packages (from matplotlib) (10.4.0)\n",
      "Requirement already satisfied: pyparsing>=2.3.1 in /opt/anaconda3/envs/pythonForCyber/lib/python3.9/site-packages (from matplotlib) (3.1.4)\n",
      "Requirement already satisfied: importlib-resources>=3.2.0 in /opt/anaconda3/envs/pythonForCyber/lib/python3.9/site-packages (from matplotlib) (6.4.4)\n",
      "Requirement already satisfied: geopy in /opt/anaconda3/envs/pythonForCyber/lib/python3.9/site-packages (from contextily) (2.4.1)\n",
      "Requirement already satisfied: mercantile in /opt/anaconda3/envs/pythonForCyber/lib/python3.9/site-packages (from contextily) (1.2.1)\n",
      "Requirement already satisfied: rasterio in /opt/anaconda3/envs/pythonForCyber/lib/python3.9/site-packages (from contextily) (1.4.2)\n",
      "Requirement already satisfied: requests in /opt/anaconda3/envs/pythonForCyber/lib/python3.9/site-packages (from contextily) (2.32.3)\n",
      "Requirement already satisfied: joblib in /opt/anaconda3/envs/pythonForCyber/lib/python3.9/site-packages (from contextily) (1.4.2)\n",
      "Requirement already satisfied: xyzservices in /opt/anaconda3/envs/pythonForCyber/lib/python3.9/site-packages (from contextily) (2024.9.0)\n",
      "Requirement already satisfied: jinja2 in /opt/anaconda3/envs/pythonForCyber/lib/python3.9/site-packages (from branca) (3.1.4)\n",
      "Requirement already satisfied: zipp>=3.1.0 in /opt/anaconda3/envs/pythonForCyber/lib/python3.9/site-packages (from importlib-resources>=3.2.0->matplotlib) (3.20.1)\n",
      "Requirement already satisfied: certifi in /opt/anaconda3/envs/pythonForCyber/lib/python3.9/site-packages (from pyogrio>=0.7.2->geopandas) (2024.8.30)\n",
      "Requirement already satisfied: six>=1.5 in /opt/anaconda3/envs/pythonForCyber/lib/python3.9/site-packages (from python-dateutil>=2.8.2->pandas) (1.16.0)\n",
      "Requirement already satisfied: geographiclib<3,>=1.52 in /opt/anaconda3/envs/pythonForCyber/lib/python3.9/site-packages (from geopy->contextily) (2.0)\n",
      "Requirement already satisfied: MarkupSafe>=2.0 in /opt/anaconda3/envs/pythonForCyber/lib/python3.9/site-packages (from jinja2->branca) (2.1.5)\n",
      "Requirement already satisfied: click>=3.0 in /opt/anaconda3/envs/pythonForCyber/lib/python3.9/site-packages (from mercantile->contextily) (8.1.7)\n",
      "Requirement already satisfied: affine in /opt/anaconda3/envs/pythonForCyber/lib/python3.9/site-packages (from rasterio->contextily) (2.4.0)\n",
      "Requirement already satisfied: attrs in /opt/anaconda3/envs/pythonForCyber/lib/python3.9/site-packages (from rasterio->contextily) (24.2.0)\n",
      "Requirement already satisfied: cligj>=0.5 in /opt/anaconda3/envs/pythonForCyber/lib/python3.9/site-packages (from rasterio->contextily) (0.7.2)\n",
      "Requirement already satisfied: click-plugins in /opt/anaconda3/envs/pythonForCyber/lib/python3.9/site-packages (from rasterio->contextily) (1.1.1)\n",
      "Requirement already satisfied: importlib-metadata in /opt/anaconda3/envs/pythonForCyber/lib/python3.9/site-packages (from rasterio->contextily) (8.5.0)\n",
      "Requirement already satisfied: charset-normalizer<4,>=2 in /opt/anaconda3/envs/pythonForCyber/lib/python3.9/site-packages (from requests->contextily) (3.3.2)\n",
      "Requirement already satisfied: idna<4,>=2.5 in /opt/anaconda3/envs/pythonForCyber/lib/python3.9/site-packages (from requests->contextily) (3.8)\n",
      "Requirement already satisfied: urllib3<3,>=1.21.1 in /opt/anaconda3/envs/pythonForCyber/lib/python3.9/site-packages (from requests->contextily) (2.2.2)\n"
     ]
    }
   ],
   "source": [
    "# Let's install all python packages we need.\n",
    "!pip install geopandas pandas matplotlib shapely contextily branca"
   ]
  },
  {
   "cell_type": "code",
   "execution_count": 2,
   "metadata": {},
   "outputs": [],
   "source": [
    "# Import necessary libraries\n",
    "import geopandas as gpd\n",
    "import pandas as pd\n",
    "import matplotlib.pyplot as plt\n",
    "from shapely.geometry import Point\n",
    "import contextily as ctx"
   ]
  },
  {
   "cell_type": "markdown",
   "metadata": {},
   "source": [
    "## Data Center Locations: Generating the CSV File\n",
    "\n",
    "For this example, I generated a CSV file of North Carolina data center locations to simulate a fictitious infrastructure footprint. I used the ParseHub app, which is a tool for web scraping, to extract data from the following website:\n",
    "\n",
    "[Data Centers in North Carolina - DataCenters.com](https://www.datacenters.com/locations/united-states/north-carolina)\n",
    "\n",
    "[ParseHub](https://www.parsehub.com/quickstart) allowed us to automate the process of collecting relevant information, such as the names and addresses of data centers listed on the website. I then exported this data into a CSV format. This dataset will serve as the foundation for our analysis, where we'll explore the cybersecurity preparedness of critical infrastructure in North Carolina.\n",
    "\n"
   ]
  },
  {
   "cell_type": "code",
   "execution_count": 3,
   "metadata": {
    "scrolled": false
   },
   "outputs": [
    {
     "ename": "TypeError",
     "evalue": "Cannot convert numpy.ndarray to numpy.ndarray",
     "output_type": "error",
     "traceback": [
      "\u001b[0;31m---------------------------------------------------------------------------\u001b[0m",
      "\u001b[0;31mTypeError\u001b[0m                                 Traceback (most recent call last)",
      "Cell \u001b[0;32mIn[3], line 4\u001b[0m\n\u001b[1;32m      1\u001b[0m \u001b[38;5;66;03m# Read Data Center Locations from the CSV File\u001b[39;00m\n\u001b[1;32m      2\u001b[0m \n\u001b[1;32m      3\u001b[0m \u001b[38;5;66;03m# Replace 'data_centers.csv' with the path to your CSV file\u001b[39;00m\n\u001b[0;32m----> 4\u001b[0m infra_df \u001b[38;5;241m=\u001b[39m \u001b[43mpd\u001b[49m\u001b[38;5;241;43m.\u001b[39;49m\u001b[43mread_csv\u001b[49m\u001b[43m(\u001b[49m\u001b[38;5;124;43m'\u001b[39;49m\u001b[38;5;124;43mdata_centers.csv\u001b[39;49m\u001b[38;5;124;43m'\u001b[39;49m\u001b[43m)\u001b[49m\n\u001b[1;32m      6\u001b[0m \u001b[38;5;66;03m# Display the DataFrame\u001b[39;00m\n\u001b[1;32m      7\u001b[0m \u001b[38;5;28mprint\u001b[39m(\u001b[38;5;124m\"\u001b[39m\u001b[38;5;124mData Centers from CSV:\u001b[39m\u001b[38;5;124m\"\u001b[39m)\n",
      "File \u001b[0;32m/opt/anaconda3/envs/pythonForCyber/lib/python3.9/site-packages/pandas/io/parsers/readers.py:1026\u001b[0m, in \u001b[0;36mread_csv\u001b[0;34m(filepath_or_buffer, sep, delimiter, header, names, index_col, usecols, dtype, engine, converters, true_values, false_values, skipinitialspace, skiprows, skipfooter, nrows, na_values, keep_default_na, na_filter, verbose, skip_blank_lines, parse_dates, infer_datetime_format, keep_date_col, date_parser, date_format, dayfirst, cache_dates, iterator, chunksize, compression, thousands, decimal, lineterminator, quotechar, quoting, doublequote, escapechar, comment, encoding, encoding_errors, dialect, on_bad_lines, delim_whitespace, low_memory, memory_map, float_precision, storage_options, dtype_backend)\u001b[0m\n\u001b[1;32m   1013\u001b[0m kwds_defaults \u001b[38;5;241m=\u001b[39m _refine_defaults_read(\n\u001b[1;32m   1014\u001b[0m     dialect,\n\u001b[1;32m   1015\u001b[0m     delimiter,\n\u001b[0;32m   (...)\u001b[0m\n\u001b[1;32m   1022\u001b[0m     dtype_backend\u001b[38;5;241m=\u001b[39mdtype_backend,\n\u001b[1;32m   1023\u001b[0m )\n\u001b[1;32m   1024\u001b[0m kwds\u001b[38;5;241m.\u001b[39mupdate(kwds_defaults)\n\u001b[0;32m-> 1026\u001b[0m \u001b[38;5;28;01mreturn\u001b[39;00m \u001b[43m_read\u001b[49m\u001b[43m(\u001b[49m\u001b[43mfilepath_or_buffer\u001b[49m\u001b[43m,\u001b[49m\u001b[43m \u001b[49m\u001b[43mkwds\u001b[49m\u001b[43m)\u001b[49m\n",
      "File \u001b[0;32m/opt/anaconda3/envs/pythonForCyber/lib/python3.9/site-packages/pandas/io/parsers/readers.py:626\u001b[0m, in \u001b[0;36m_read\u001b[0;34m(filepath_or_buffer, kwds)\u001b[0m\n\u001b[1;32m    623\u001b[0m     \u001b[38;5;28;01mreturn\u001b[39;00m parser\n\u001b[1;32m    625\u001b[0m \u001b[38;5;28;01mwith\u001b[39;00m parser:\n\u001b[0;32m--> 626\u001b[0m     \u001b[38;5;28;01mreturn\u001b[39;00m \u001b[43mparser\u001b[49m\u001b[38;5;241;43m.\u001b[39;49m\u001b[43mread\u001b[49m\u001b[43m(\u001b[49m\u001b[43mnrows\u001b[49m\u001b[43m)\u001b[49m\n",
      "File \u001b[0;32m/opt/anaconda3/envs/pythonForCyber/lib/python3.9/site-packages/pandas/io/parsers/readers.py:1968\u001b[0m, in \u001b[0;36mTextFileReader.read\u001b[0;34m(self, nrows)\u001b[0m\n\u001b[1;32m   1965\u001b[0m     \u001b[38;5;28;01melse\u001b[39;00m:\n\u001b[1;32m   1966\u001b[0m         new_col_dict \u001b[38;5;241m=\u001b[39m col_dict\n\u001b[0;32m-> 1968\u001b[0m     df \u001b[38;5;241m=\u001b[39m \u001b[43mDataFrame\u001b[49m\u001b[43m(\u001b[49m\n\u001b[1;32m   1969\u001b[0m \u001b[43m        \u001b[49m\u001b[43mnew_col_dict\u001b[49m\u001b[43m,\u001b[49m\n\u001b[1;32m   1970\u001b[0m \u001b[43m        \u001b[49m\u001b[43mcolumns\u001b[49m\u001b[38;5;241;43m=\u001b[39;49m\u001b[43mcolumns\u001b[49m\u001b[43m,\u001b[49m\n\u001b[1;32m   1971\u001b[0m \u001b[43m        \u001b[49m\u001b[43mindex\u001b[49m\u001b[38;5;241;43m=\u001b[39;49m\u001b[43mindex\u001b[49m\u001b[43m,\u001b[49m\n\u001b[1;32m   1972\u001b[0m \u001b[43m        \u001b[49m\u001b[43mcopy\u001b[49m\u001b[38;5;241;43m=\u001b[39;49m\u001b[38;5;129;43;01mnot\u001b[39;49;00m\u001b[43m \u001b[49m\u001b[43musing_copy_on_write\u001b[49m\u001b[43m(\u001b[49m\u001b[43m)\u001b[49m\u001b[43m,\u001b[49m\n\u001b[1;32m   1973\u001b[0m \u001b[43m    \u001b[49m\u001b[43m)\u001b[49m\n\u001b[1;32m   1975\u001b[0m     \u001b[38;5;28mself\u001b[39m\u001b[38;5;241m.\u001b[39m_currow \u001b[38;5;241m+\u001b[39m\u001b[38;5;241m=\u001b[39m new_rows\n\u001b[1;32m   1976\u001b[0m \u001b[38;5;28;01mreturn\u001b[39;00m df\n",
      "File \u001b[0;32m/opt/anaconda3/envs/pythonForCyber/lib/python3.9/site-packages/pandas/core/frame.py:778\u001b[0m, in \u001b[0;36mDataFrame.__init__\u001b[0;34m(self, data, index, columns, dtype, copy)\u001b[0m\n\u001b[1;32m    772\u001b[0m     mgr \u001b[38;5;241m=\u001b[39m \u001b[38;5;28mself\u001b[39m\u001b[38;5;241m.\u001b[39m_init_mgr(\n\u001b[1;32m    773\u001b[0m         data, axes\u001b[38;5;241m=\u001b[39m{\u001b[38;5;124m\"\u001b[39m\u001b[38;5;124mindex\u001b[39m\u001b[38;5;124m\"\u001b[39m: index, \u001b[38;5;124m\"\u001b[39m\u001b[38;5;124mcolumns\u001b[39m\u001b[38;5;124m\"\u001b[39m: columns}, dtype\u001b[38;5;241m=\u001b[39mdtype, copy\u001b[38;5;241m=\u001b[39mcopy\n\u001b[1;32m    774\u001b[0m     )\n\u001b[1;32m    776\u001b[0m \u001b[38;5;28;01melif\u001b[39;00m \u001b[38;5;28misinstance\u001b[39m(data, \u001b[38;5;28mdict\u001b[39m):\n\u001b[1;32m    777\u001b[0m     \u001b[38;5;66;03m# GH#38939 de facto copy defaults to False only in non-dict cases\u001b[39;00m\n\u001b[0;32m--> 778\u001b[0m     mgr \u001b[38;5;241m=\u001b[39m \u001b[43mdict_to_mgr\u001b[49m\u001b[43m(\u001b[49m\u001b[43mdata\u001b[49m\u001b[43m,\u001b[49m\u001b[43m \u001b[49m\u001b[43mindex\u001b[49m\u001b[43m,\u001b[49m\u001b[43m \u001b[49m\u001b[43mcolumns\u001b[49m\u001b[43m,\u001b[49m\u001b[43m \u001b[49m\u001b[43mdtype\u001b[49m\u001b[38;5;241;43m=\u001b[39;49m\u001b[43mdtype\u001b[49m\u001b[43m,\u001b[49m\u001b[43m \u001b[49m\u001b[43mcopy\u001b[49m\u001b[38;5;241;43m=\u001b[39;49m\u001b[43mcopy\u001b[49m\u001b[43m,\u001b[49m\u001b[43m \u001b[49m\u001b[43mtyp\u001b[49m\u001b[38;5;241;43m=\u001b[39;49m\u001b[43mmanager\u001b[49m\u001b[43m)\u001b[49m\n\u001b[1;32m    779\u001b[0m \u001b[38;5;28;01melif\u001b[39;00m \u001b[38;5;28misinstance\u001b[39m(data, ma\u001b[38;5;241m.\u001b[39mMaskedArray):\n\u001b[1;32m    780\u001b[0m     \u001b[38;5;28;01mfrom\u001b[39;00m \u001b[38;5;21;01mnumpy\u001b[39;00m\u001b[38;5;21;01m.\u001b[39;00m\u001b[38;5;21;01mma\u001b[39;00m \u001b[38;5;28;01mimport\u001b[39;00m mrecords\n",
      "File \u001b[0;32m/opt/anaconda3/envs/pythonForCyber/lib/python3.9/site-packages/pandas/core/internals/construction.py:443\u001b[0m, in \u001b[0;36mdict_to_mgr\u001b[0;34m(data, index, columns, dtype, typ, copy)\u001b[0m\n\u001b[1;32m    440\u001b[0m \u001b[38;5;28;01mif\u001b[39;00m columns \u001b[38;5;129;01mis\u001b[39;00m \u001b[38;5;129;01mnot\u001b[39;00m \u001b[38;5;28;01mNone\u001b[39;00m:\n\u001b[1;32m    441\u001b[0m     \u001b[38;5;28;01mfrom\u001b[39;00m \u001b[38;5;21;01mpandas\u001b[39;00m\u001b[38;5;21;01m.\u001b[39;00m\u001b[38;5;21;01mcore\u001b[39;00m\u001b[38;5;21;01m.\u001b[39;00m\u001b[38;5;21;01mseries\u001b[39;00m \u001b[38;5;28;01mimport\u001b[39;00m Series\n\u001b[0;32m--> 443\u001b[0m     arrays \u001b[38;5;241m=\u001b[39m \u001b[43mSeries\u001b[49m\u001b[43m(\u001b[49m\u001b[43mdata\u001b[49m\u001b[43m,\u001b[49m\u001b[43m \u001b[49m\u001b[43mindex\u001b[49m\u001b[38;5;241;43m=\u001b[39;49m\u001b[43mcolumns\u001b[49m\u001b[43m,\u001b[49m\u001b[43m \u001b[49m\u001b[43mdtype\u001b[49m\u001b[38;5;241;43m=\u001b[39;49m\u001b[38;5;28;43mobject\u001b[39;49m\u001b[43m)\u001b[49m\n\u001b[1;32m    444\u001b[0m     missing \u001b[38;5;241m=\u001b[39m arrays\u001b[38;5;241m.\u001b[39misna()\n\u001b[1;32m    445\u001b[0m     \u001b[38;5;28;01mif\u001b[39;00m index \u001b[38;5;129;01mis\u001b[39;00m \u001b[38;5;28;01mNone\u001b[39;00m:\n\u001b[1;32m    446\u001b[0m         \u001b[38;5;66;03m# GH10856\u001b[39;00m\n\u001b[1;32m    447\u001b[0m         \u001b[38;5;66;03m# raise ValueError if only scalars in dict\u001b[39;00m\n",
      "File \u001b[0;32m/opt/anaconda3/envs/pythonForCyber/lib/python3.9/site-packages/pandas/core/series.py:490\u001b[0m, in \u001b[0;36mSeries.__init__\u001b[0;34m(self, data, index, dtype, name, copy, fastpath)\u001b[0m\n\u001b[1;32m    487\u001b[0m name \u001b[38;5;241m=\u001b[39m ibase\u001b[38;5;241m.\u001b[39mmaybe_extract_name(name, data, \u001b[38;5;28mtype\u001b[39m(\u001b[38;5;28mself\u001b[39m))\n\u001b[1;32m    489\u001b[0m \u001b[38;5;28;01mif\u001b[39;00m index \u001b[38;5;129;01mis\u001b[39;00m \u001b[38;5;129;01mnot\u001b[39;00m \u001b[38;5;28;01mNone\u001b[39;00m:\n\u001b[0;32m--> 490\u001b[0m     index \u001b[38;5;241m=\u001b[39m \u001b[43mensure_index\u001b[49m\u001b[43m(\u001b[49m\u001b[43mindex\u001b[49m\u001b[43m)\u001b[49m\n\u001b[1;32m    492\u001b[0m \u001b[38;5;28;01mif\u001b[39;00m dtype \u001b[38;5;129;01mis\u001b[39;00m \u001b[38;5;129;01mnot\u001b[39;00m \u001b[38;5;28;01mNone\u001b[39;00m:\n\u001b[1;32m    493\u001b[0m     dtype \u001b[38;5;241m=\u001b[39m \u001b[38;5;28mself\u001b[39m\u001b[38;5;241m.\u001b[39m_validate_dtype(dtype)\n",
      "File \u001b[0;32m/opt/anaconda3/envs/pythonForCyber/lib/python3.9/site-packages/pandas/core/indexes/base.py:7647\u001b[0m, in \u001b[0;36mensure_index\u001b[0;34m(index_like, copy)\u001b[0m\n\u001b[1;32m   7645\u001b[0m         \u001b[38;5;28;01mreturn\u001b[39;00m MultiIndex\u001b[38;5;241m.\u001b[39mfrom_arrays(index_like)\n\u001b[1;32m   7646\u001b[0m     \u001b[38;5;28;01melse\u001b[39;00m:\n\u001b[0;32m-> 7647\u001b[0m         \u001b[38;5;28;01mreturn\u001b[39;00m \u001b[43mIndex\u001b[49m\u001b[43m(\u001b[49m\u001b[43mindex_like\u001b[49m\u001b[43m,\u001b[49m\u001b[43m \u001b[49m\u001b[43mcopy\u001b[49m\u001b[38;5;241;43m=\u001b[39;49m\u001b[43mcopy\u001b[49m\u001b[43m,\u001b[49m\u001b[43m \u001b[49m\u001b[43mtupleize_cols\u001b[49m\u001b[38;5;241;43m=\u001b[39;49m\u001b[38;5;28;43;01mFalse\u001b[39;49;00m\u001b[43m)\u001b[49m\n\u001b[1;32m   7648\u001b[0m \u001b[38;5;28;01melse\u001b[39;00m:\n\u001b[1;32m   7649\u001b[0m     \u001b[38;5;28;01mreturn\u001b[39;00m Index(index_like, copy\u001b[38;5;241m=\u001b[39mcopy)\n",
      "File \u001b[0;32m/opt/anaconda3/envs/pythonForCyber/lib/python3.9/site-packages/pandas/core/indexes/base.py:565\u001b[0m, in \u001b[0;36mIndex.__new__\u001b[0;34m(cls, data, dtype, copy, name, tupleize_cols)\u001b[0m\n\u001b[1;32m    562\u001b[0m         data \u001b[38;5;241m=\u001b[39m com\u001b[38;5;241m.\u001b[39masarray_tuplesafe(data, dtype\u001b[38;5;241m=\u001b[39m_dtype_obj)\n\u001b[1;32m    564\u001b[0m \u001b[38;5;28;01mtry\u001b[39;00m:\n\u001b[0;32m--> 565\u001b[0m     arr \u001b[38;5;241m=\u001b[39m \u001b[43msanitize_array\u001b[49m\u001b[43m(\u001b[49m\u001b[43mdata\u001b[49m\u001b[43m,\u001b[49m\u001b[43m \u001b[49m\u001b[38;5;28;43;01mNone\u001b[39;49;00m\u001b[43m,\u001b[49m\u001b[43m \u001b[49m\u001b[43mdtype\u001b[49m\u001b[38;5;241;43m=\u001b[39;49m\u001b[43mdtype\u001b[49m\u001b[43m,\u001b[49m\u001b[43m \u001b[49m\u001b[43mcopy\u001b[49m\u001b[38;5;241;43m=\u001b[39;49m\u001b[43mcopy\u001b[49m\u001b[43m)\u001b[49m\n\u001b[1;32m    566\u001b[0m \u001b[38;5;28;01mexcept\u001b[39;00m \u001b[38;5;167;01mValueError\u001b[39;00m \u001b[38;5;28;01mas\u001b[39;00m err:\n\u001b[1;32m    567\u001b[0m     \u001b[38;5;28;01mif\u001b[39;00m \u001b[38;5;124m\"\u001b[39m\u001b[38;5;124mindex must be specified when data is not list-like\u001b[39m\u001b[38;5;124m\"\u001b[39m \u001b[38;5;129;01min\u001b[39;00m \u001b[38;5;28mstr\u001b[39m(err):\n",
      "File \u001b[0;32m/opt/anaconda3/envs/pythonForCyber/lib/python3.9/site-packages/pandas/core/construction.py:654\u001b[0m, in \u001b[0;36msanitize_array\u001b[0;34m(data, index, dtype, copy, allow_2d)\u001b[0m\n\u001b[1;32m    651\u001b[0m     subarr \u001b[38;5;241m=\u001b[39m _try_cast(data, dtype, copy)\n\u001b[1;32m    653\u001b[0m \u001b[38;5;28;01melse\u001b[39;00m:\n\u001b[0;32m--> 654\u001b[0m     subarr \u001b[38;5;241m=\u001b[39m \u001b[43mmaybe_convert_platform\u001b[49m\u001b[43m(\u001b[49m\u001b[43mdata\u001b[49m\u001b[43m)\u001b[49m\n\u001b[1;32m    655\u001b[0m     \u001b[38;5;28;01mif\u001b[39;00m subarr\u001b[38;5;241m.\u001b[39mdtype \u001b[38;5;241m==\u001b[39m \u001b[38;5;28mobject\u001b[39m:\n\u001b[1;32m    656\u001b[0m         subarr \u001b[38;5;241m=\u001b[39m cast(np\u001b[38;5;241m.\u001b[39mndarray, subarr)\n",
      "File \u001b[0;32m/opt/anaconda3/envs/pythonForCyber/lib/python3.9/site-packages/pandas/core/dtypes/cast.py:138\u001b[0m, in \u001b[0;36mmaybe_convert_platform\u001b[0;34m(values)\u001b[0m\n\u001b[1;32m    136\u001b[0m \u001b[38;5;28;01mif\u001b[39;00m arr\u001b[38;5;241m.\u001b[39mdtype \u001b[38;5;241m==\u001b[39m _dtype_obj:\n\u001b[1;32m    137\u001b[0m     arr \u001b[38;5;241m=\u001b[39m cast(np\u001b[38;5;241m.\u001b[39mndarray, arr)\n\u001b[0;32m--> 138\u001b[0m     arr \u001b[38;5;241m=\u001b[39m \u001b[43mlib\u001b[49m\u001b[38;5;241;43m.\u001b[39;49m\u001b[43mmaybe_convert_objects\u001b[49m\u001b[43m(\u001b[49m\u001b[43marr\u001b[49m\u001b[43m)\u001b[49m\n\u001b[1;32m    140\u001b[0m \u001b[38;5;28;01mreturn\u001b[39;00m arr\n",
      "File \u001b[0;32mlib.pyx:2538\u001b[0m, in \u001b[0;36mpandas._libs.lib.maybe_convert_objects\u001b[0;34m()\u001b[0m\n",
      "\u001b[0;31mTypeError\u001b[0m: Cannot convert numpy.ndarray to numpy.ndarray"
     ]
    }
   ],
   "source": [
    "# Read Data Center Locations from the CSV File\n",
    "\n",
    "# Replace 'data_centers.csv' with the path to your CSV file\n",
    "infra_df = pd.read_csv('data_centers.csv')\n",
    "\n",
    "# Display the DataFrame\n",
    "print(\"Data Centers from CSV:\")\n",
    "infra_df\n"
   ]
  },
  {
   "cell_type": "markdown",
   "metadata": {},
   "source": [
    "## Visualizing Data Centers and GEFS Precipitation Forecast on a Map\n",
    "\n",
    "In this map, we will display the locations of data centers across North Carolina alongside the **Global Ensemble Forecast System (GEFS)** Day 12 precipitation forecast. The GEFS dataset, produced by the National Oceanic and Atmospheric Administration (NOAA), is a global weather forecast model that combines multiple weather simulations (or “ensemble members”) to predict conditions over a 16-day period.\n",
    "\n",
    "The **Day 12 forecast** specifically provides precipitation predictions 12 days into the future. This forecast is valuable for assessing potential rainfall, especially during extreme weather events, allowing organizations to plan and respond to anticipated conditions. By overlaying this data with data center locations, we can evaluate areas at risk from forecasted precipitation levels.\n"
   ]
  },
  {
   "cell_type": "code",
   "execution_count": 2,
   "metadata": {},
   "outputs": [
    {
     "ename": "NameError",
     "evalue": "name 'infra_df' is not defined",
     "output_type": "error",
     "traceback": [
      "\u001b[0;31m---------------------------------------------------------------------------\u001b[0m",
      "\u001b[0;31mNameError\u001b[0m                                 Traceback (most recent call last)",
      "Cell \u001b[0;32mIn[2], line 21\u001b[0m\n\u001b[1;32m     17\u001b[0m folium\u001b[38;5;241m.\u001b[39mTileLayer(arcgis_tile_url, name\u001b[38;5;241m=\u001b[39m\u001b[38;5;124m\"\u001b[39m\u001b[38;5;124mPrecipitation Totals\u001b[39m\u001b[38;5;124m\"\u001b[39m, attr\u001b[38;5;241m=\u001b[39m\u001b[38;5;124m\"\u001b[39m\u001b[38;5;124mArcGIS\u001b[39m\u001b[38;5;124m\"\u001b[39m)\u001b[38;5;241m.\u001b[39madd_to(m)\n\u001b[1;32m     20\u001b[0m \u001b[38;5;66;03m# Add each data center as a marker on the map\u001b[39;00m\n\u001b[0;32m---> 21\u001b[0m \u001b[38;5;28;01mfor\u001b[39;00m _, row \u001b[38;5;129;01min\u001b[39;00m \u001b[43minfra_df\u001b[49m\u001b[38;5;241m.\u001b[39miterrows():\n\u001b[1;32m     22\u001b[0m     folium\u001b[38;5;241m.\u001b[39mMarker(\n\u001b[1;32m     23\u001b[0m         location\u001b[38;5;241m=\u001b[39m[row[\u001b[38;5;124m'\u001b[39m\u001b[38;5;124mlatitude\u001b[39m\u001b[38;5;124m'\u001b[39m], row[\u001b[38;5;124m'\u001b[39m\u001b[38;5;124mlongitude\u001b[39m\u001b[38;5;124m'\u001b[39m]],\n\u001b[1;32m     24\u001b[0m         popup\u001b[38;5;241m=\u001b[39mrow[\u001b[38;5;124m'\u001b[39m\u001b[38;5;124mdatacenter_name_name\u001b[39m\u001b[38;5;124m'\u001b[39m],\n\u001b[1;32m     25\u001b[0m         icon\u001b[38;5;241m=\u001b[39mfolium\u001b[38;5;241m.\u001b[39mIcon(color\u001b[38;5;241m=\u001b[39m\u001b[38;5;124m\"\u001b[39m\u001b[38;5;124mblue\u001b[39m\u001b[38;5;124m\"\u001b[39m, icon\u001b[38;5;241m=\u001b[39m\u001b[38;5;124m\"\u001b[39m\u001b[38;5;124mcloud\u001b[39m\u001b[38;5;124m\"\u001b[39m)\n\u001b[1;32m     26\u001b[0m     )\u001b[38;5;241m.\u001b[39madd_to(m)\n\u001b[1;32m     28\u001b[0m \u001b[38;5;66;03m# Display the map with infrastructure and precipitation data\u001b[39;00m\n",
      "\u001b[0;31mNameError\u001b[0m: name 'infra_df' is not defined"
     ]
    }
   ],
   "source": [
    "import folium\n",
    "\n",
    "\n",
    "\n",
    "# Define the center point for the map (Asheville, NC)\n",
    "map_center = [35.5951, -82.5515]\n",
    "\n",
    "# Create a Folium map centered on Asheville, using CartoDB Positron as a base layer\n",
    "m = folium.Map(location=map_center, zoom_start=8, tiles=\"CartoDB positron\", name=\"United States Boundaries\")\n",
    "\n",
    "# Add the ArcGIS MapServer as a tile layer. You can copy and paste the two lines of code below \n",
    "# and subsitute the url with anyweb map server endpoint of your choice. [Look here to find more datasets](https://www.arcgis.com/home/search.html?restrict=false&sortField=relevance&sortOrder=desc&searchTerm=owner%3A%22NWS.NCEP.CPC_noaa%22#content)\n",
    "arcgis_tile_url = \"https://tiles.arcgis.com/tiles/C8EMgrsFcRFL6LrL/arcgis/rest/services/prcp_gefs_day12_thresh_2/MapServer/tile/{z}/{y}/{x}\"\n",
    "folium.TileLayer(arcgis_tile_url, name=\"Precipitation Totals\", attr=\"ArcGIS\").add_to(m)\n",
    "\n",
    "arcgis_tile_url = \"https://tiles.arcgis.com/tiles/C8EMgrsFcRFL6LrL/arcgis/rest/services/nrmSeasTemp/MapServer/tile/{z}/{y}/{x}\"\n",
    "folium.TileLayer(arcgis_tile_url, name=\"Precipitation Totals\", attr=\"ArcGIS\").add_to(m)\n",
    "\n",
    "\n",
    "# Add each data center as a marker on the map\n",
    "for _, row in infra_df.iterrows():\n",
    "    folium.Marker(\n",
    "        location=[row['latitude'], row['longitude']],\n",
    "        popup=row['datacenter_name_name'],\n",
    "        icon=folium.Icon(color=\"blue\", icon=\"cloud\")\n",
    "    ).add_to(m)\n",
    "\n",
    "# Display the map with infrastructure and precipitation data\n",
    "m\n"
   ]
  },
  {
   "cell_type": "markdown",
   "metadata": {},
   "source": [
    "The 20%, 40%, 60% values in the GEFS Day 12 precipitation forecast represent probability contours for receiving a certain amount of precipitation. For this demostration, we chose to look at areas recieving more than 2 inches of rainfall. These contours indicate the likelihood, based on the ensemble of forecast models, that a given area will experience precipitation above a specified threshold of 2 inches.\n",
    "\n",
    "Here's a breakdown:\n",
    "\n",
    "- 20% Contour: There’s a 20% chance that this area will receive at least the threshold amount of precipitation (e.g., 2 inches) within the forecast period.\n",
    "- 40% Contour: A 40% chance of meeting or exceeding the precipitation threshold.\n",
    "- 60% Contour (and higher): Higher probabilities, indicating areas with a greater likelihood of substantial rainfall.\n"
   ]
  },
  {
   "cell_type": "markdown",
   "metadata": {},
   "source": [
    "## Conclusion\n",
    "\n",
    "As of October 2024, there is currently no predicted rainfall greater than 2 inches for the North Carolina region. Instead, all significant rainfall predictions are concentrated around the tail of Central America.\n",
    "\n",
    "While this may be the case now, it’s important to remember that the GEFS model updates regularly, providing new forecasts as weather conditions evolve. This notebook serves as a quick and easily executable tool, allowing for rapid assessment of forecasted precipitation alongside critical infrastructure locations when locally volatile weather is anticipated.\n"
   ]
  },
  {
   "cell_type": "markdown",
   "metadata": {},
   "source": [
    "## Contact\n",
    "- Kenneth Witt: kwitt@wvhtf.org\n",
    "- Lauryn Eldridge: leldridge@wvhtf.org"
   ]
  }
 ],
 "metadata": {
  "kernelspec": {
   "display_name": "Python 3.9 (pythonForCyber)",
   "language": "python",
   "name": "pythonforcyber"
  },
  "language_info": {
   "codemirror_mode": {
    "name": "ipython",
    "version": 3
   },
   "file_extension": ".py",
   "mimetype": "text/x-python",
   "name": "python",
   "nbconvert_exporter": "python",
   "pygments_lexer": "ipython3",
   "version": "3.9.19"
  }
 },
 "nbformat": 4,
 "nbformat_minor": 2
}
